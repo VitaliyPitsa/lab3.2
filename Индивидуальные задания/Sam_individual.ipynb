{
 "cells": [
  {
   "cell_type": "markdown",
   "id": "9ee451e7",
   "metadata": {},
   "source": [
    "## Задача №2. \n",
    "Проверка выполнения второго закона Кирхгофа для заданного контура. Вида:\n",
    " ![schema](./schema.png)\n",
    "Рассчитать силу тока при разных замкнутых ключах. И проверить выполнение второго закона Кирхгофа.\n"
   ]
  },
  {
   "cell_type": "code",
   "execution_count": 10,
   "id": "1713d6e2",
   "metadata": {},
   "outputs": [],
   "source": [
    "import numpy as np\n",
    "\n",
    "# Значения согласно заданному контору\n",
    "R1=6000\n",
    "R2=4000\n",
    "R3=8000\n",
    "R4=10000\n",
    "E1=22\n",
    "E2=12\n",
    "E3=17"
   ]
  },
  {
   "cell_type": "code",
   "execution_count": 11,
   "id": "4dbdab11",
   "metadata": {},
   "outputs": [
    {
     "name": "stdout",
     "output_type": "stream",
     "text": [
      "cобсветнные сопротивления контуров 10000   14000   18000\n"
     ]
    }
   ],
   "source": [
    "# Определяем собственные сопротивления контуров, как сумму сопротивлений элементов, входящих в контур\n",
    "R11=R1+R2\n",
    "R22=R2+R4\n",
    "R33=R3+R4\n",
    "print('cобсветнные сопротивления контуров', R11,' ', R22, ' ', R33)"
   ]
  },
  {
   "cell_type": "code",
   "execution_count": 12,
   "id": "44c36581",
   "metadata": {},
   "outputs": [],
   "source": [
    "#Определяем общие сопротивления\n",
    "R12=-R2\n",
    "R21=-R2\n",
    "R13=0\n",
    "R31=0\n",
    "R23=-R4\n",
    "R32=-R4"
   ]
  },
  {
   "cell_type": "code",
   "execution_count": 13,
   "id": "b9e822d8",
   "metadata": {},
   "outputs": [
    {
     "name": "stdout",
     "output_type": "stream",
     "text": [
      "Определяем контурные ЭДС: 22   -12   17\n"
     ]
    }
   ],
   "source": [
    "# Определяем контурные ЭДС как алгебраическую сумму ЭДС\n",
    "E11=E1\n",
    "E22=-E2\n",
    "E33=E3\n",
    "print('Определяем контурные ЭДС:',  E11,' ', E22, ' ', E33 )\n"
   ]
  },
  {
   "cell_type": "code",
   "execution_count": 14,
   "id": "7777d770",
   "metadata": {},
   "outputs": [
    {
     "name": "stdout",
     "output_type": "stream",
     "text": [
      "Решение:\n",
      "I1 = 0.003 A\n",
      "I2 = 0.001 A\n",
      "I3 = 0.001 A\n"
     ]
    }
   ],
   "source": [
    "# составляем уравнение и вычисляем силы тока\n",
    "a1 = [R11, R12, R13]\n",
    "a2 = [R21, R22, R23]\n",
    "a3 = [R31, R32, R33]\n",
    "a4 = [E11, E22, E33]\n",
    "\n",
    "d = np.linalg.det(np.transpose(np.matrix([a1, a2, a3])))\n",
    "d1 = np.linalg.det(np.transpose(np.matrix([a4,a2,a3])))\n",
    "d2 = np.linalg.det(np.transpose(np.matrix([a1,a4,a3])))\n",
    "d3 = np.linalg.det(np.transpose(np.matrix([a1, a2,a4])))\n",
    "print(\"Решение:\")\n",
    "print(f\"I1 = {d1/d:.3f} A\")\n",
    "print(f\"I2 = {d2/d:.3f} A\")\n",
    "print(f\"I3 = {d3/d:.3f} A\")"
   ]
  },
  {
   "cell_type": "code",
   "execution_count": null,
   "id": "77c5e169",
   "metadata": {},
   "outputs": [],
   "source": []
  },
  {
   "cell_type": "code",
   "execution_count": null,
   "id": "ccb16882",
   "metadata": {},
   "outputs": [],
   "source": []
  }
 ],
 "metadata": {
  "kernelspec": {
   "display_name": "Python 3 (ipykernel)",
   "language": "python",
   "name": "python3"
  },
  "language_info": {
   "codemirror_mode": {
    "name": "ipython",
    "version": 3
   },
   "file_extension": ".py",
   "mimetype": "text/x-python",
   "name": "python",
   "nbconvert_exporter": "python",
   "pygments_lexer": "ipython3",
   "version": "3.9.13"
  }
 },
 "nbformat": 4,
 "nbformat_minor": 5
}
