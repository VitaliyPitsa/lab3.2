{
 "cells": [
  {
   "cell_type": "markdown",
   "id": "08d66c41",
   "metadata": {},
   "source": [
    "Для заданной матрицы размером 8 на 8 в которой K-я строка матрицы совпадает с\n",
    "k-м столбцом. Найти сумму элементов в тех строках, которые содержат хотя бы один\n",
    "отрицательный элемент."
   ]
  },
  {
   "cell_type": "code",
   "execution_count": 8,
   "id": "804f187d",
   "metadata": {},
   "outputs": [],
   "source": [
    "import numpy as np"
   ]
  },
  {
   "cell_type": "code",
   "execution_count": 9,
   "id": "6b9ee5a3",
   "metadata": {
    "scrolled": true
   },
   "outputs": [
    {
     "name": "stdout",
     "output_type": "stream",
     "text": [
      "введите K: 2\n",
      "Матрица:\n",
      " [[ -3  -5   5   0  -2   7   0  12]\n",
      " [ -5   6  13   4  -7   7  13  -5]\n",
      " [  3  13   2   0  -1   0  16   0]\n",
      " [ 16   4  -6 -10   7  -5  10  13]\n",
      " [ -4  -7   1  -6  -5   1  -6  -7]\n",
      " [  8   7  -9  10  17   8   3  14]\n",
      " [  3  13   9  11  14  -1   3   3]\n",
      " [ -5  -5  -2   7  11  16   7   0]]\n"
     ]
    }
   ],
   "source": [
    "n = 8\n",
    "matrix = np.random.randint(-10, 20, (n, n))\n",
    "k = int(input(\"введите K: \"))\n",
    "matrix[k-1,:] = matrix[:,k-1]\n",
    "print(\"Матрица:\\n\", matrix)"
   ]
  },
  {
   "cell_type": "code",
   "execution_count": 10,
   "id": "b512c2df",
   "metadata": {},
   "outputs": [
    {
     "name": "stdout",
     "output_type": "stream",
     "text": [
      "Сумма элементов в строках с отрицательными элементами: 211\n"
     ]
    }
   ],
   "source": [
    "neg_rows = np.where(np.any(matrix < 0, axis=1))[0]\n",
    "neg_rows_sum = np.sum(matrix[neg_rows], axis=1).sum()\n",
    "print(\"Сумма элементов в строках с отрицательными элементами:\", neg_rows_sum)"
   ]
  },
  {
   "cell_type": "code",
   "execution_count": null,
   "id": "237484e8",
   "metadata": {},
   "outputs": [],
   "source": []
  }
 ],
 "metadata": {
  "kernelspec": {
   "display_name": "Python 3 (ipykernel)",
   "language": "python",
   "name": "python3"
  },
  "language_info": {
   "codemirror_mode": {
    "name": "ipython",
    "version": 3
   },
   "file_extension": ".py",
   "mimetype": "text/x-python",
   "name": "python",
   "nbconvert_exporter": "python",
   "pygments_lexer": "ipython3",
   "version": "3.9.13"
  }
 },
 "nbformat": 4,
 "nbformat_minor": 5
}
