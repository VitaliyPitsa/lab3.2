{
 "cells": [
  {
   "cell_type": "markdown",
   "id": "08d66c41",
   "metadata": {},
   "source": [
    "Для заданной матрицы размером 8 на 8 в которой K-я строка матрицы совпадает с\n",
    "k-м столбцом. Найти сумму элементов в тех строках, которые содержат хотя бы один\n",
    "отрицательный элемент."
   ]
  },
  {
   "cell_type": "code",
   "execution_count": 5,
   "id": "804f187d",
   "metadata": {},
   "outputs": [],
   "source": [
    "import numpy as np"
   ]
  },
  {
   "cell_type": "code",
   "execution_count": 6,
   "id": "6b9ee5a3",
   "metadata": {},
   "outputs": [
    {
     "name": "stdout",
     "output_type": "stream",
     "text": [
      "Матрица:\n",
      " [[ 14   0   0   0   0   0   0   0]\n",
      " [  0  -2   0   0   0   0   0   0]\n",
      " [  0   0  17   0   0   0   0   0]\n",
      " [  0   0   0   3   0   0   0   0]\n",
      " [  0   0   0   0 -10   0   0   0]\n",
      " [  0   0   0   0   0  -7   0   0]\n",
      " [  0   0   0   0   0   0  12   0]\n",
      " [  0   0   0   0   0   0   0  13]]\n"
     ]
    }
   ],
   "source": [
    "matrix = np.zeros((8, 8), int)\n",
    "np.fill_diagonal(matrix, np.random.randint(-10, 20, size=8))\n",
    "matrix = np.transpose(matrix)\n",
    "print(\"Матрица:\\n\", matrix)"
   ]
  },
  {
   "cell_type": "code",
   "execution_count": 7,
   "id": "b512c2df",
   "metadata": {},
   "outputs": [
    {
     "name": "stdout",
     "output_type": "stream",
     "text": [
      "Сумма элементов в строках с отрицательными элементами: -19\n"
     ]
    }
   ],
   "source": [
    "neg_rows = np.where(np.any(matrix < 0, axis=1))[0]\n",
    "neg_rows_sum = np.sum(matrix[neg_rows], axis=1).sum()\n",
    "print(\"Сумма элементов в строках с отрицательными элементами:\", neg_rows_sum)"
   ]
  },
  {
   "cell_type": "code",
   "execution_count": null,
   "id": "237484e8",
   "metadata": {},
   "outputs": [],
   "source": []
  }
 ],
 "metadata": {
  "kernelspec": {
   "display_name": "Python 3 (ipykernel)",
   "language": "python",
   "name": "python3"
  },
  "language_info": {
   "codemirror_mode": {
    "name": "ipython",
    "version": 3
   },
   "file_extension": ".py",
   "mimetype": "text/x-python",
   "name": "python",
   "nbconvert_exporter": "python",
   "pygments_lexer": "ipython3",
   "version": "3.9.13"
  }
 },
 "nbformat": 4,
 "nbformat_minor": 5
}
